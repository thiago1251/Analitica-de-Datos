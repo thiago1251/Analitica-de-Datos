{
  "nbformat": 4,
  "nbformat_minor": 0,
  "metadata": {
    "colab": {
      "name": "aprendizaje-automatico-con-scikit-learn.ipynb",
      "provenance": [],
      "collapsed_sections": []
    },
    "kernelspec": {
      "name": "python3",
      "display_name": "Python 3"
    },
    "language_info": {
      "name": "python"
    }
  },
  "cells": [
    {
      "cell_type": "markdown",
      "metadata": {
        "id": "GKGlGvMWkRcD"
      },
      "source": [
        "Lo primero vamos a realizar la instalación de la librería necesaria para ejecutar nuestro ejemplos."
      ]
    },
    {
      "cell_type": "code",
      "metadata": {
        "colab": {
          "base_uri": "https://localhost:8080/"
        },
        "id": "Tm6rScyvJ4i6",
        "outputId": "007adb9a-f4c9-4c39-8a13-c33ffc11f2db"
      },
      "source": [
        "pip install scikit-learn"
      ],
      "execution_count": 10,
      "outputs": [
        {
          "output_type": "stream",
          "text": [
            "Requirement already satisfied: scikit-learn in /usr/local/lib/python3.7/dist-packages (0.22.2.post1)\n",
            "Requirement already satisfied: scipy>=0.17.0 in /usr/local/lib/python3.7/dist-packages (from scikit-learn) (1.4.1)\n",
            "Requirement already satisfied: joblib>=0.11 in /usr/local/lib/python3.7/dist-packages (from scikit-learn) (1.0.1)\n",
            "Requirement already satisfied: numpy>=1.11.0 in /usr/local/lib/python3.7/dist-packages (from scikit-learn) (1.19.5)\n"
          ],
          "name": "stdout"
        }
      ]
    },
    {
      "cell_type": "markdown",
      "metadata": {
        "id": "z4ar-yMnkfSE"
      },
      "source": [
        "Importamos la librería e imprimimos la versión que estamos usando."
      ]
    },
    {
      "cell_type": "code",
      "metadata": {
        "colab": {
          "base_uri": "https://localhost:8080/"
        },
        "id": "B8oLKKl9Kkv7",
        "outputId": "30b6651a-44e3-4485-c8d2-d6ce5e9d618a"
      },
      "source": [
        "import sklearn as skl\n",
        "print(skl.__version__)"
      ],
      "execution_count": 11,
      "outputs": [
        {
          "output_type": "stream",
          "text": [
            "0.22.2.post1\n"
          ],
          "name": "stdout"
        }
      ]
    },
    {
      "cell_type": "markdown",
      "metadata": {
        "id": "YlVBxPIQkmhP"
      },
      "source": [
        "Cargamos el dataset IRIS de la batería de dataset que incluye por defecto la librería.\n",
        "\n"
      ]
    },
    {
      "cell_type": "code",
      "metadata": {
        "id": "jyv21iktNjkZ"
      },
      "source": [
        "# Importamos el dataset\n",
        "import sklearn.datasets\n",
        "dataset = sklearn.datasets.load_iris()"
      ],
      "execution_count": 12,
      "outputs": []
    },
    {
      "cell_type": "markdown",
      "metadata": {
        "id": "bx5ftnZYkvZA"
      },
      "source": [
        "Realizamos la separación del dataset en entrenamiento y test"
      ]
    },
    {
      "cell_type": "code",
      "metadata": {
        "id": "LD4vl9i1PZen"
      },
      "source": [
        "from sklearn.model_selection import train_test_split\n",
        "\n",
        "# Renombramos los valores para que X sean los atributos e Y sean las respuestas del sistema\n",
        "X = dataset.data\n",
        "y = dataset.target\n",
        "\n",
        "# Realizamos la partición de nuestro dataset en un conjunto de entrenamiento y otro de test (20%)\n",
        "X_train, X_test, y_train, y_test = train_test_split(X, y, test_size=0.2, random_state=42)\n"
      ],
      "execution_count": 13,
      "outputs": []
    },
    {
      "cell_type": "markdown",
      "metadata": {
        "id": "EaJAkMlLk1cf"
      },
      "source": [
        "Por último realizamos el entrenamiento y mostramos el valor de accuracy obtenido."
      ]
    },
    {
      "cell_type": "code",
      "metadata": {
        "colab": {
          "base_uri": "https://localhost:8080/"
        },
        "id": "eM6mtCpRgnaf",
        "outputId": "b35b8b05-d402-4ba4-8ac3-366664c77b38"
      },
      "source": [
        "from sklearn.svm import SVC\n",
        "\n",
        "# Creamos el clasificador SVM lineal\n",
        "classifier =  SVC(kernel=\"linear\", C=0.025)\n",
        "\n",
        "# Realizamos el entrenamiento\n",
        "classifier.fit(X_train, y_train)\n",
        "\n",
        "# Obtenemos el accuracy de nuestro modelo para el conjunto de test\n",
        "print(classifier.score(X_test, y_test))"
      ],
      "execution_count": 14,
      "outputs": [
        {
          "output_type": "stream",
          "text": [
            "0.9666666666666667\n"
          ],
          "name": "stdout"
        }
      ]
    },
    {
      "cell_type": "markdown",
      "metadata": {
        "id": "PQwpxQQd9jgt"
      },
      "source": [
        "Para mejora el entrenamiento vamos a utilizar la validación cruzada"
      ]
    },
    {
      "cell_type": "code",
      "metadata": {
        "colab": {
          "base_uri": "https://localhost:8080/"
        },
        "id": "UOXLddnA9i-K",
        "outputId": "03ebb922-c7ae-48b3-8ebb-08c473b177b9"
      },
      "source": [
        "# Importamos la función de entrenamiento y validación cruzada\n",
        "from sklearn.model_selection import cross_val_score\n",
        "# Usamos otro clasificador no entrenamos\n",
        "classifier_cross =  SVC(kernel=\"linear\", C=0.025)\n",
        "nScores = cross_val_score(classifier_cross, X, y, cv=10)\n",
        "# Nos devuelve un array de tipo Numpy. Podemos usar el método mean para obtener la media de los valores devuev\n",
        "nScores.mean()"
      ],
      "execution_count": 16,
      "outputs": [
        {
          "output_type": "execute_result",
          "data": {
            "text/plain": [
              "0.9400000000000001"
            ]
          },
          "metadata": {
            "tags": []
          },
          "execution_count": 16
        }
      ]
    }
  ]
}